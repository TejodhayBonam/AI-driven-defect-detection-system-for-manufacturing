{
  "nbformat": 4,
  "nbformat_minor": 0,
  "metadata": {
    "colab": {
      "name": "DefectClassificationVGG.ipynb",
      "provenance": []
    },
    "kernelspec": {
      "name": "python3",
      "display_name": "Python 3"
    },
    "accelerator": "GPU"
  },
  "cells": [
    {
      "cell_type": "markdown",
      "metadata": {
        "id": "F4bdJmHDxfFM"
      },
      "source": [
        "# Defect Classification Model\n",
        "\n",
        "Here, we build a model to classify defects on a metal surface using Transfer Learning (with VGG16 base model).\n",
        "\n",
        "**Dataset:** [Metal Surface Defects Dataset](https://www.kaggle.com/fantacher/neu-metal-surface-defects-data)"
      ]
    },
    {
      "cell_type": "markdown",
      "metadata": {
        "id": "mqod5DQtxi7y"
      },
      "source": [
        "## Preliminaries"
      ]
    },
    {
      "cell_type": "code",
      "metadata": {
        "id": "KTZb-oezup9R",
        "colab": {
          "base_uri": "https://localhost:8080/",
          "height": 35
        },
        "outputId": "46dcebd6-d261-4c85-cd75-928f8605ebe7"
      },
      "source": [
        "from google.colab import drive\n",
        "drive.mount('/content/drive')"
      ],
      "execution_count": null,
      "outputs": [
        {
          "output_type": "stream",
          "text": [
            "Mounted at /content/drive\n"
          ],
          "name": "stdout"
        }
      ]
    },
    {
      "cell_type": "code",
      "metadata": {
        "id": "sZUn5-XP-XMl"
      },
      "source": [
        "import os\n",
        "os.chdir(\"/content/drive/My Drive\")"
      ],
      "execution_count": null,
      "outputs": []
    },
    {
      "cell_type": "code",
      "metadata": {
        "id": "dhJuHrET-XTR"
      },
      "source": [
        "import matplotlib\n",
        "matplotlib.use(\"Agg\")\n",
        "\n",
        "import tensorflow as tf\n",
        "import matplotlib.pyplot as plt\n",
        "import matplotlib.gridspec as gridspec\n",
        "from keras.preprocessing.image import ImageDataGenerator\n",
        "from keras import Sequential\n",
        "from keras.optimizers import Adam\n",
        "from keras.layers import Input\n",
        "from keras.models import Model\n",
        "from keras.applications import VGG16\n",
        "from keras.layers.core import Flatten, Dense, Dropout\n",
        "from keras.preprocessing import image\n",
        "import numpy as np\n",
        "import os\n",
        "from sklearn.metrics import classification_report, confusion_matrix\n",
        "\n",
        "%matplotlib inline"
      ],
      "execution_count": 1,
      "outputs": []
    },
    {
      "cell_type": "markdown",
      "metadata": {
        "id": "afyyJTBKxwxr"
      },
      "source": [
        "## Model Architecture [Using VGG16 as Base Model]"
      ]
    },
    {
      "cell_type": "code",
      "metadata": {
        "id": "Vpi-_9pJspOW"
      },
      "source": [
        "CLASSES = 6       # Here, there are 6 classes of defects ['Crazing', 'Inclusion', 'Patches', 'Pitted', 'Rolled','Scratches']\n",
        "HEIGHT = 224\n",
        "WIDTH = 224\n",
        "CHANNELS = 3"
      ],
      "execution_count": 2,
      "outputs": []
    },
    {
      "cell_type": "code",
      "metadata": {
        "id": "QOofABd4-XXC",
        "colab": {
          "base_uri": "https://localhost:8080/"
        },
        "outputId": "a5f67816-8824-48e7-cafc-65667348554d"
      },
      "source": [
        "baseModel = VGG16(weights=\"imagenet\", include_top=False,\n",
        "\tinput_tensor=Input(shape=(WIDTH, HEIGHT, CHANNELS)))\n",
        "\n",
        "# Enable Transfer Learning by freezing weights of the base VGG16 Model\n",
        "for layer in baseModel.layers:\n",
        "\tlayer.trainable = False\n",
        "\n",
        "model = Sequential()\n",
        "model.add(baseModel)\n",
        "model.add(Flatten(name=\"flatten\"))\n",
        "model.add(Dense(1024, activation='relu'))\n",
        "model.add(Dropout(0.5))\n",
        "model.add(Dense(256, activation='relu'))\n",
        "model.add(Dropout(0.5))\n",
        "model.add(Dense(CLASSES, activation='softmax'))"
      ],
      "execution_count": 3,
      "outputs": [
        {
          "output_type": "stream",
          "text": [
            "Downloading data from https://storage.googleapis.com/tensorflow/keras-applications/vgg16/vgg16_weights_tf_dim_ordering_tf_kernels_notop.h5\n",
            "58892288/58889256 [==============================] - 1s 0us/step\n"
          ],
          "name": "stdout"
        }
      ]
    },
    {
      "cell_type": "code",
      "metadata": {
        "id": "9NISlKwLs0m_",
        "colab": {
          "base_uri": "https://localhost:8080/"
        },
        "outputId": "03a9ffaa-059f-4871-bf80-d406ae2297cb"
      },
      "source": [
        "model.summary()"
      ],
      "execution_count": 4,
      "outputs": [
        {
          "output_type": "stream",
          "text": [
            "Model: \"sequential\"\n",
            "_________________________________________________________________\n",
            "Layer (type)                 Output Shape              Param #   \n",
            "=================================================================\n",
            "vgg16 (Functional)           (None, 7, 7, 512)         14714688  \n",
            "_________________________________________________________________\n",
            "flatten (Flatten)            (None, 25088)             0         \n",
            "_________________________________________________________________\n",
            "dense (Dense)                (None, 1024)              25691136  \n",
            "_________________________________________________________________\n",
            "dropout (Dropout)            (None, 1024)              0         \n",
            "_________________________________________________________________\n",
            "dense_1 (Dense)              (None, 256)               262400    \n",
            "_________________________________________________________________\n",
            "dropout_1 (Dropout)          (None, 256)               0         \n",
            "_________________________________________________________________\n",
            "dense_2 (Dense)              (None, 6)                 1542      \n",
            "=================================================================\n",
            "Total params: 40,669,766\n",
            "Trainable params: 25,955,078\n",
            "Non-trainable params: 14,714,688\n",
            "_________________________________________________________________\n"
          ],
          "name": "stdout"
        }
      ]
    },
    {
      "cell_type": "markdown",
      "metadata": {
        "id": "Yi7bOphRx2i6"
      },
      "source": [
        "## Dataset Preparation"
      ]
    },
    {
      "cell_type": "code",
      "metadata": {
        "id": "6v-bCuen-XZc"
      },
      "source": [
        "# Image preprocessing for robustness\n",
        "train_datagen = ImageDataGenerator(\n",
        "    rescale=1./255,\n",
        "    rotation_range=20,\n",
        "    shear_range=0.2,\n",
        "    zoom_range=0.2,\n",
        "    horizontal_flip=True,\n",
        "    vertical_flip=True\n",
        ")\n",
        "\n",
        "valid_datagen = ImageDataGenerator(\n",
        "    rescale=1./255,\n",
        "    rotation_range=20,\n",
        "    shear_range=0.2,\n",
        "    zoom_range=0.2,\n",
        "    horizontal_flip=True,\n",
        "    vertical_flip=True\n",
        ")\n",
        "\n",
        "test_datagen = ImageDataGenerator(rescale=1./255)"
      ],
      "execution_count": null,
      "outputs": []
    },
    {
      "cell_type": "code",
      "metadata": {
        "id": "K5J7xCMy-Xbt",
        "colab": {
          "base_uri": "https://localhost:8080/",
          "height": 87
        },
        "outputId": "1c49e6f4-2e41-49a4-e349-6cee616935f6"
      },
      "source": [
        "BATCH_SIZE = 36\n",
        "\n",
        "print(\"[INFO] loading images...\")\n",
        "train_data_dir = \"/content/drive/My Drive/Defect_data/train\"        # directory of training data\n",
        "valid_data_dir = \"/content/drive/My Drive/Defect_data/valid\"        # directory of validation data\n",
        "test_data_dir = \"/content/drive/My Drive/Defect_data/test\"          # directory of test data\n",
        "\n",
        "training_set = train_datagen.flow_from_directory(train_data_dir, \n",
        "                                                 target_size=(WIDTH, HEIGHT),\n",
        "                                                 batch_size=BATCH_SIZE, \n",
        "                                                 class_mode='categorical')\n",
        "validation_set = train_datagen.flow_from_directory(valid_data_dir, \n",
        "                                                 target_size=(WIDTH, HEIGHT),\n",
        "                                                 batch_size=BATCH_SIZE, \n",
        "                                                 class_mode='categorical')\n",
        "test_set = test_datagen.flow_from_directory(test_data_dir, \n",
        "                                            target_size=(WIDTH, HEIGHT),\n",
        "                                            batch_size=BATCH_SIZE, \n",
        "                                            class_mode='categorical',\n",
        "                                            shuffle=False)"
      ],
      "execution_count": null,
      "outputs": [
        {
          "output_type": "stream",
          "text": [
            "[INFO] loading images...\n",
            "Found 1656 images belonging to 6 classes.\n",
            "Found 72 images belonging to 6 classes.\n",
            "Found 72 images belonging to 6 classes.\n"
          ],
          "name": "stdout"
        }
      ]
    },
    {
      "cell_type": "markdown",
      "metadata": {
        "id": "3sam5b5Ox7Sy"
      },
      "source": [
        "## Model training"
      ]
    },
    {
      "cell_type": "code",
      "metadata": {
        "id": "aVJ5uDlg-0iT",
        "colab": {
          "base_uri": "https://localhost:8080/",
          "height": 35
        },
        "outputId": "080c7161-a0d9-4585-eda6-a1fb8f723207"
      },
      "source": [
        "print(\"[INFO] compiling model...\")\n",
        "\n",
        "model.compile(\n",
        "    loss=\"categorical_crossentropy\", \n",
        "    optimizer = Adam(lr=0.001), \n",
        "    metrics=[\"accuracy\"]\n",
        ")"
      ],
      "execution_count": null,
      "outputs": [
        {
          "output_type": "stream",
          "text": [
            "[INFO] compiling model...\n"
          ],
          "name": "stdout"
        }
      ]
    },
    {
      "cell_type": "code",
      "metadata": {
        "id": "8-JtBM5f-6IS",
        "colab": {
          "base_uri": "https://localhost:8080/",
          "height": 381
        },
        "outputId": "7014bfcf-24c7-491e-fb42-e4b50c3fc241"
      },
      "source": [
        "print(\"[INFO] training model...\")\n",
        "\n",
        "EPOCHS = 10\n",
        "\n",
        "history = model.fit(\n",
        "    training_set,\n",
        "    epochs=EPOCHS,\n",
        "    steps_per_epoch=training_set.samples//BATCH_SIZE,\n",
        "    validation_data=validation_set,\n",
        "    validation_steps=validation_set.samples//BATCH_SIZE\n",
        ")"
      ],
      "execution_count": null,
      "outputs": [
        {
          "output_type": "stream",
          "text": [
            "[INFO] training model...\n",
            "Epoch 1/10\n",
            "46/46 [==============================] - 24s 511ms/step - loss: 0.3615 - accuracy: 0.8829 - val_loss: 0.0844 - val_accuracy: 0.9722\n",
            "Epoch 2/10\n",
            "46/46 [==============================] - 23s 502ms/step - loss: 0.3199 - accuracy: 0.8949 - val_loss: 0.0735 - val_accuracy: 0.9861\n",
            "Epoch 3/10\n",
            "46/46 [==============================] - 23s 500ms/step - loss: 0.2741 - accuracy: 0.8919 - val_loss: 0.0731 - val_accuracy: 0.9722\n",
            "Epoch 4/10\n",
            "46/46 [==============================] - 24s 520ms/step - loss: 0.2692 - accuracy: 0.9070 - val_loss: 0.0610 - val_accuracy: 0.9861\n",
            "Epoch 5/10\n",
            "46/46 [==============================] - 24s 515ms/step - loss: 0.2542 - accuracy: 0.9046 - val_loss: 0.0612 - val_accuracy: 0.9861\n",
            "Epoch 6/10\n",
            "46/46 [==============================] - 23s 503ms/step - loss: 0.2611 - accuracy: 0.9052 - val_loss: 0.0440 - val_accuracy: 0.9861\n",
            "Epoch 7/10\n",
            "46/46 [==============================] - 23s 499ms/step - loss: 0.2417 - accuracy: 0.9155 - val_loss: 0.0391 - val_accuracy: 0.9861\n",
            "Epoch 8/10\n",
            "46/46 [==============================] - 23s 508ms/step - loss: 0.2566 - accuracy: 0.9143 - val_loss: 0.0698 - val_accuracy: 0.9722\n",
            "Epoch 9/10\n",
            "46/46 [==============================] - 23s 503ms/step - loss: 0.2674 - accuracy: 0.9010 - val_loss: 0.0390 - val_accuracy: 0.9722\n",
            "Epoch 10/10\n",
            "46/46 [==============================] - 23s 501ms/step - loss: 0.2263 - accuracy: 0.9130 - val_loss: 0.0360 - val_accuracy: 1.0000\n"
          ],
          "name": "stdout"
        }
      ]
    },
    {
      "cell_type": "code",
      "metadata": {
        "id": "5P9Okr9T_Dz_",
        "colab": {
          "base_uri": "https://localhost:8080/",
          "height": 35
        },
        "outputId": "a8c55170-e9a7-49e0-c0ee-327ed4c73606"
      },
      "source": [
        "# Save the model\n",
        "print(\"[Info] serializing network...\")\n",
        "model.save(\"defect_classification_vgg16.hdf5\")"
      ],
      "execution_count": null,
      "outputs": [
        {
          "output_type": "stream",
          "text": [
            "[Info] serializing network...\n"
          ],
          "name": "stdout"
        }
      ]
    },
    {
      "cell_type": "code",
      "metadata": {
        "id": "0tgNtCn3uRIn"
      },
      "source": [
        "# Function to plot the accuracy & losses over epochs of training\n",
        "\n",
        "def plot_training(history):\n",
        "    acc = history.history['accuracy']\n",
        "    val_acc = history.history['val_accuracy']\n",
        "    loss = history.history['loss']\n",
        "    val_loss = history.history['val_loss']\n",
        "    epochs = range(1, len(acc)+1)\n",
        "\n",
        "    plt.figure(figsize=(16, 8))\n",
        "    \n",
        "    plt.subplot(1, 2, 1)\n",
        "    plt.plot(epochs, acc, 'b*--', label=\"Training Accuracy\")\n",
        "    plt.plot(epochs, val_acc, 'rD:', label=\"Validation Accuracy\")\n",
        "    plt.legend()\n",
        "    plt.title('Training and validation accuracy')\n",
        "    \n",
        "    plt.subplot(1, 2, 2)\n",
        "    plt.plot(epochs, loss, 'b*--', label=\"Training Loss\")\n",
        "    plt.plot(epochs, val_loss, 'rD:', label=\"Validation Loss\")\n",
        "    plt.legend()\n",
        "    plt.title('Training and validation loss')\n",
        "    \n",
        "    plt.savefig(\"defect_classification_model.png\", bbox_inches=\"tight\")\n",
        "    plt.show()"
      ],
      "execution_count": null,
      "outputs": []
    },
    {
      "cell_type": "code",
      "metadata": {
        "id": "ld7aS3SxwVj0",
        "colab": {
          "base_uri": "https://localhost:8080/",
          "height": 499
        },
        "outputId": "68830601-1adb-4782-f258-ccc234d29135"
      },
      "source": [
        "plot_training(history)"
      ],
      "execution_count": null,
      "outputs": [
        {
          "output_type": "display_data",
          "data": {
            "image/png": "[encoded data removed]",
            "text/plain": [
              "<Figure size 1152x576 with 2 Axes>"
            ]
          },
          "metadata": {
            "tags": [],
            "needs_background": "light"
          }
        }
      ]
    },
    {
      "cell_type": "markdown",
      "metadata": {
        "id": "-gy-x1cdyX4T"
      },
      "source": [
        "## Model Evauation"
      ]
    },
    {
      "cell_type": "code",
      "metadata": {
        "id": "D317pAehqNzB",
        "colab": {
          "base_uri": "https://localhost:8080/",
          "height": 69
        },
        "outputId": "93011cdf-02f7-4f31-cf05-f4c0d5f45202"
      },
      "source": [
        "score = model.evaluate(test_set)\n",
        "print('Test loss:', score[0])\n",
        "print('Test accuracy:', score[1])"
      ],
      "execution_count": null,
      "outputs": [
        {
          "output_type": "stream",
          "text": [
            "2/2 [==============================] - 6s 3s/step - loss: 0.0356 - accuracy: 1.0000\n",
            "Test loss: 0.035601869225502014\n",
            "Test accuracy: 1.0\n"
          ],
          "name": "stdout"
        }
      ]
    },
    {
      "cell_type": "code",
      "metadata": {
        "id": "lW4m1OIQqW-9",
        "colab": {
          "base_uri": "https://localhost:8080/",
          "height": 89
        },
        "outputId": "1c24442d-d780-4aa2-e718-4fefec0d9617"
      },
      "source": [
        "pred = model.predict(\n",
        "    test_set, \n",
        "    steps=test_set.samples//BATCH_SIZE + 1,\n",
        "    verbose=1\n",
        ")\n",
        "pred = np.argmax(pred, axis=1)"
      ],
      "execution_count": null,
      "outputs": [
        {
          "output_type": "stream",
          "text": [
            "2/3 [===================>..........] - ETA: 0sWARNING:tensorflow:Callbacks method `on_predict_batch_end` is slow compared to the batch time (batch time: 0.0075s vs `on_predict_batch_end` time: 0.1435s). Check your callbacks.\n",
            "WARNING:tensorflow:Your input ran out of data; interrupting training. Make sure that your dataset or generator can generate at least `steps_per_epoch * epochs` batches (in this case, 3 batches). You may need to use the repeat() function when building your dataset.\n",
            "2/3 [===================>..........] - 0s 185ms/step\n"
          ],
          "name": "stdout"
        }
      ]
    },
    {
      "cell_type": "code",
      "metadata": {
        "id": "gKj7_nRrrqSX",
        "colab": {
          "base_uri": "https://localhost:8080/",
          "height": 399
        },
        "outputId": "3d12adee-63e3-4414-9452-2af55294312e"
      },
      "source": [
        "print('Confusion Matrix')\n",
        "print(confusion_matrix(test_set.classes[test_set.index_array], pred))\n",
        "\n",
        "print('\\nClassification Report')\n",
        "target_names = ['Crazing', 'Inclusion', 'Patches', 'Pitted', 'Rolled','Scratches']\n",
        "print(classification_report(test_set.classes[test_set.index_array], pred, target_names=target_names))"
      ],
      "execution_count": null,
      "outputs": [
        {
          "output_type": "stream",
          "text": [
            "Confusion Matrix\n",
            "[[12  0  0  0  0  0]\n",
            " [ 0 12  0  0  0  0]\n",
            " [ 0  0 12  0  0  0]\n",
            " [ 0  0  0 12  0  0]\n",
            " [ 0  0  0  0 12  0]\n",
            " [ 0  0  0  0  0 12]]\n",
            "\n",
            "Classification Report\n",
            "              precision    recall  f1-score   support\n",
            "\n",
            "     Crazing       1.00      1.00      1.00        12\n",
            "   Inclusion       1.00      1.00      1.00        12\n",
            "     Patches       1.00      1.00      1.00        12\n",
            "      Pitted       1.00      1.00      1.00        12\n",
            "      Rolled       1.00      1.00      1.00        12\n",
            "   Scratches       1.00      1.00      1.00        12\n",
            "\n",
            "    accuracy                           1.00        72\n",
            "   macro avg       1.00      1.00      1.00        72\n",
            "weighted avg       1.00      1.00      1.00        72\n",
            "\n"
          ],
          "name": "stdout"
        }
      ]
    }
  ]
}